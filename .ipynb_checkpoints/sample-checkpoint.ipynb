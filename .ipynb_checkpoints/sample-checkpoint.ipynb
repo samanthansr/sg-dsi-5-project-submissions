{
 "cells": [
  {
   "cell_type": "markdown",
   "metadata": {},
   "source": [
    "# Simple markdown tips:"
   ]
  },
  {
   "cell_type": "markdown",
   "metadata": {},
   "source": [
    "# A big header (using one \\#)\n",
    "\n",
    "## A not-so-big header (using two \\#s)\n",
    "\n",
    "### I'm sure you can figure the pattern out...\n",
    "\n",
    "1. \\_this\\_ becomes _this_\n",
    "2. \\_\\_this\\_\\_ becomes __this__\n",
    "3. Yes, this is part of an automatically indented list.\n",
    "\n",
    "Strikeout with \\~\\~_words go here_\\~\\~, ~~like this.~~\n",
    "\n",
    "* These lists are done with *\n",
    "* or -\n",
    "* or +"
   ]
  },
  {
   "cell_type": "markdown",
   "metadata": {},
   "source": [
    "# Simple programming best practices:"
   ]
  },
  {
   "cell_type": "markdown",
   "metadata": {},
   "source": [
    "Name stuff descriptively:"
   ]
  },
  {
   "cell_type": "code",
   "execution_count": null,
   "metadata": {
    "ExecuteTime": {
     "end_time": "2018-09-06T06:50:22.769389Z",
     "start_time": "2018-09-06T06:50:22.664442Z"
    }
   },
   "outputs": [],
   "source": [
    "import numpy as np\n",
    "\n",
    "# worse\n",
    "\n",
    "def do_something(var1, var2):\n",
    "    for var3 in range(var2):\n",
    "        var1 = [np.log(hello) for hello in var1]\n",
    "    return var1\n",
    "\n",
    "# better\n",
    "\n",
    "def iteratedLogarithm(targets, iterations):\n",
    "    for target in range(iterations):\n",
    "        targets = [np.log(target) for target in targets]\n",
    "    return targets"
   ]
  },
  {
   "cell_type": "markdown",
   "metadata": {},
   "source": [
    "Explain code that is difficult to follow with comments."
   ]
  },
  {
   "cell_type": "code",
   "execution_count": null,
   "metadata": {
    "ExecuteTime": {
     "end_time": "2018-09-06T06:50:22.914495Z",
     "start_time": "2018-09-06T06:50:22.769389Z"
    }
   },
   "outputs": [],
   "source": [
    "# worse\n",
    "\n",
    "testchars = [char for char in set(page.text) if 19968 <= ord(char) <= 40943]\n",
    "\n",
    "# better\n",
    "\n",
    "# extracts only the Chinese characters from page.text\n",
    "# 19968 is the lower bound for the ordinal values of Chinese characters\n",
    "# 40943 is the upper bound\n",
    "testchars = [char for char in set(page.text) if 19968 <= ord(char) <= 40943]"
   ]
  },
  {
   "cell_type": "markdown",
   "metadata": {},
   "source": [
    "Sparse is better than dense, and readable is more important than compact."
   ]
  },
  {
   "cell_type": "code",
   "execution_count": null,
   "metadata": {
    "ExecuteTime": {
     "end_time": "2018-09-06T06:50:22.915491Z",
     "start_time": "2018-09-06T06:50:22.667Z"
    }
   },
   "outputs": [],
   "source": [
    "# worse\n",
    "\n",
    "def findOutlier(dataset, column):\n",
    "    return [element for element in dataset[column] if element < np.mean(dataset[column]) - 3 * np.std(dataset[column]) or element > np.mean(dataset[column]) + 3 * np.std(dataset[column])]\n",
    "\n",
    "# better\n",
    "\n",
    "def findOutlier(dataset, column):\n",
    "    data = dataset[column]\n",
    "    population_mean = np.mean(data)\n",
    "    population_std = np.std(data)\n",
    "    upper_threshold = population_mean + 3 * population_std\n",
    "    lower_threshold = population_mean - 3 * population_std\n",
    "    return [element for element in data if element < lower_threshold or element > upper_threshold]"
   ]
  }
 ],
 "metadata": {
  "kernelspec": {
   "display_name": "Python 3",
   "language": "python",
   "name": "python3"
  },
  "language_info": {
   "codemirror_mode": {
    "name": "ipython",
    "version": 3
   },
   "file_extension": ".py",
   "mimetype": "text/x-python",
   "name": "python",
   "nbconvert_exporter": "python",
   "pygments_lexer": "ipython3",
   "version": "3.6.5"
  }
 },
 "nbformat": 4,
 "nbformat_minor": 2
}
